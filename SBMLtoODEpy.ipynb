{
  "nbformat": 4,
  "nbformat_minor": 0,
  "metadata": {
    "colab": {
      "name": "SBMLtoODEpy.ipynb",
      "version": "0.3.2",
      "provenance": [],
      "collapsed_sections": []
    },
    "kernelspec": {
      "name": "python3",
      "display_name": "Python 3"
    }
  },
  "cells": [
    {
      "cell_type": "markdown",
      "metadata": {
        "id": "J9pQieONxv5R",
        "colab_type": "text"
      },
      "source": [
        "# **SBMLtoODEpy_Examples**\n",
        "\n",
        "The SMBLtoODEpy project includes a set of example sbml_files for running demos. As the installation location is system dependent, we have included the commands for cloning the repository simply to provide access to these example files in an easy to find location for users. You can skip the first two code sections below if you are comfortable navigating to the sbmltoodepy/sbmltoodepy/sbml_files/ location on your computer where pip installed SBMLtoODEpy. \n",
        "\n",
        "The demo on [colab.research.google.com](https://colab.research.google.com/drive/1yBscTNFwgliOUD10YhdWh-3HvXdj1YUF) can run completely online without installing Python locally."
      ]
    },
    {
      "cell_type": "markdown",
      "metadata": {
        "id": "56Qbt6U2XeMP",
        "colab_type": "text"
      },
      "source": [
        "## Clone repository to enable easy access to code demos\n",
        "\n"
      ]
    },
    {
      "cell_type": "code",
      "metadata": {
        "id": "qa1d4UOtWO92",
        "colab_type": "code",
        "outputId": "4473990b-0e47-4b84-a15d-223b2e72682a",
        "colab": {
          "base_uri": "https://localhost:8080/",
          "height": 51
        }
      },
      "source": [
        "!mkdir demo\n",
        "%cd demo\n",
        "!pwd"
      ],
      "execution_count": 1,
      "outputs": [
        {
          "output_type": "stream",
          "text": [
            "/content/demo\n",
            "/content/demo\n"
          ],
          "name": "stdout"
        }
      ]
    },
    {
      "cell_type": "code",
      "metadata": {
        "id": "5Y7gBw51yRY4",
        "colab_type": "code",
        "outputId": "3e97a99a-1228-470f-e0eb-a7bc0a015389",
        "colab": {
          "base_uri": "https://localhost:8080/",
          "height": 136
        }
      },
      "source": [
        "!git clone https://github.com/SMRuggiero/sbmltoodepy.git"
      ],
      "execution_count": 2,
      "outputs": [
        {
          "output_type": "stream",
          "text": [
            "Cloning into 'sbmltoodepy'...\n",
            "remote: Enumerating objects: 35, done.\u001b[K\n",
            "remote: Counting objects: 100% (35/35), done.\u001b[K\n",
            "remote: Compressing objects: 100% (33/33), done.\u001b[K\n",
            "remote: Total 385 (delta 17), reused 6 (delta 2), pack-reused 350\u001b[K\n",
            "Receiving objects: 100% (385/385), 452.22 KiB | 11.03 MiB/s, done.\n",
            "Resolving deltas: 100% (197/197), done.\n"
          ],
          "name": "stdout"
        }
      ]
    },
    {
      "cell_type": "code",
      "metadata": {
        "id": "bTURttKK0e17",
        "colab_type": "code",
        "outputId": "aebecbf0-63c0-41c4-c5df-850024eae345",
        "colab": {
          "base_uri": "https://localhost:8080/",
          "height": 136
        }
      },
      "source": [
        "%cd sbmltoodepy/sbmltoodepy/sbml_files/\n",
        "!ls"
      ],
      "execution_count": 3,
      "outputs": [
        {
          "output_type": "stream",
          "text": [
            "/content/demo/sbmltoodepy/sbmltoodepy/sbml_files\n",
            "Borisov2009_insulin_EGF.xml\n",
            "Guyton1972_Angiotensin.xml\n",
            "Kerkhoven2013_Glycolysis_in_T_brucei.xml\n",
            "Smallbone2013_Colon_Crypt_cycle.xml\n",
            "Waugh2006_Diabetic_Wound_Healing_TGF_B_Dynamics.xml\n",
            "Zi2011_TGF_beta_Pathway.xml\n"
          ],
          "name": "stdout"
        }
      ]
    },
    {
      "cell_type": "markdown",
      "metadata": {
        "id": "gephDfIeJ1X5",
        "colab_type": "text"
      },
      "source": [
        "## Install latest release of SBMLtoODEpy software"
      ]
    },
    {
      "cell_type": "code",
      "metadata": {
        "id": "NbAwIcHNxqWQ",
        "colab_type": "code",
        "outputId": "078309bb-355f-429d-c1d9-55d5168d561e",
        "colab": {
          "base_uri": "https://localhost:8080/",
          "height": 272
        }
      },
      "source": [
        "!pip install sbmltoodepy"
      ],
      "execution_count": 4,
      "outputs": [
        {
          "output_type": "stream",
          "text": [
            "Collecting sbmltoodepy\n",
            "\u001b[?25l  Downloading https://files.pythonhosted.org/packages/f7/11/2f65e42bcf2138e1000433ddad4f39681774eadf0be3332673e0c35a553a/sbmltoodepy-1.0.2.tar.gz (77kB)\n",
            "\u001b[K     |████████████████████████████████| 81kB 3.2MB/s \n",
            "\u001b[?25hCollecting python-libsbml (from sbmltoodepy)\n",
            "\u001b[?25l  Downloading https://files.pythonhosted.org/packages/e9/74/3dd353a017ba970e6c8d152d8c9ffa11e3d7b168b5057c5ea64f8b04b4ec/python_libsbml-5.18.0-cp36-cp36m-manylinux1_x86_64.whl (35.3MB)\n",
            "\u001b[K     |████████████████████████████████| 35.3MB 67.2MB/s \n",
            "\u001b[?25hRequirement already satisfied: numpy in /usr/local/lib/python3.6/dist-packages (from sbmltoodepy) (1.16.4)\n",
            "Requirement already satisfied: scipy in /usr/local/lib/python3.6/dist-packages (from sbmltoodepy) (1.3.1)\n",
            "Building wheels for collected packages: sbmltoodepy\n",
            "  Building wheel for sbmltoodepy (setup.py) ... \u001b[?25l\u001b[?25hdone\n",
            "  Created wheel for sbmltoodepy: filename=sbmltoodepy-1.0.2-cp36-none-any.whl size=81804 sha256=e4186abf41cfedfdbb76ccc564b3f737c918fe174e3cac8e1a332439d583af0f\n",
            "  Stored in directory: /root/.cache/pip/wheels/b7/12/3c/09d2a68b1a02790cda01687f8a29b0bb6e78489721b3cedbab\n",
            "Successfully built sbmltoodepy\n",
            "Installing collected packages: python-libsbml, sbmltoodepy\n",
            "Successfully installed python-libsbml-5.18.0 sbmltoodepy-1.0.2\n"
          ],
          "name": "stdout"
        }
      ]
    },
    {
      "cell_type": "markdown",
      "metadata": {
        "id": "oGf_Yv84KPiC",
        "colab_type": "text"
      },
      "source": [
        "## Import SBMLtoODEpy module into Python"
      ]
    },
    {
      "cell_type": "code",
      "metadata": {
        "id": "qYJpHz8zxuLa",
        "colab_type": "code",
        "colab": {}
      },
      "source": [
        "import sbmltoodepy"
      ],
      "execution_count": 0,
      "outputs": []
    },
    {
      "cell_type": "markdown",
      "metadata": {
        "id": "-tww4oA7Xwno",
        "colab_type": "text"
      },
      "source": [
        "## Example 1: Borisov2009"
      ]
    },
    {
      "cell_type": "code",
      "metadata": {
        "id": "LcDp8BuJyBTY",
        "colab_type": "code",
        "colab": {}
      },
      "source": [
        "sbmltoodepy.ParseAndCreateModel(\"Borisov2009_insulin_EGF.xml\",outputFilePath = \"PythonFile.py\", className = \"ModelName\")"
      ],
      "execution_count": 0,
      "outputs": []
    },
    {
      "cell_type": "code",
      "metadata": {
        "id": "SPM3bdVaW-zh",
        "colab_type": "code",
        "colab": {}
      },
      "source": [
        "from PythonFile import ModelName\n",
        "modelInstance = ModelName()"
      ],
      "execution_count": 0,
      "outputs": []
    },
    {
      "cell_type": "code",
      "metadata": {
        "id": "ZC8gvXY3XZXU",
        "colab_type": "code",
        "outputId": "7842c160-d425-4658-bca8-26de49764f00",
        "colab": {
          "base_uri": "https://localhost:8080/",
          "height": 54
        }
      },
      "source": [
        "# get the dictionary keys for the IDs of the species in the model\n",
        "print(modelInstance.s.keys())"
      ],
      "execution_count": 0,
      "outputs": [
        {
          "output_type": "stream",
          "text": [
            "dict_keys(['EGF', 'I', 'RE', 'Rd', 'Rp', 'GS', 'Rp_GS', 'Shc', 'Rp_Shc', 'Rp_pShc', 'pShc', 'Rp_pShc_GS', 'PI3K', 'Rp_PI3K', 'RasGAP', 'Rp_RasGAP', 'IRL', 'IRp', 'IRp_PI3K', 'IRp_RasGAP', 'IRS', 'IRp_IRS', 'IRp_IRSp', 'IRSp', 'iSrc', 'mIRS', 'mIRSp', 'mIRSp_GS', 'mIRSp_PI3K', 'SHP2', 'mIRSp_SHP2', 'GAB', 'mGAB', 'mGABp', 'mGABp_GS', 'mGABp_PI3K', 'mGABp_SHP2', 'mGABp_pSHP2', 'PIP3', 'dRas', 'Raf', 'aRaf', 'Mek', 'Erk', 'pErk', 'PDK1', 'Akt', 'pAkt', 'mTOR', 'Null', 'aaRaf', 'PKA', 'pShc_GS', 'ppMek', 'mGABp_pSHP2_GS', 'R', 'ppErk', 'IR', 'mPDK1', 'tRas', 'tRas_PI3K', 'ppAkt', 'mGABp_RasGAP', 'amTOR', 'iGS', 'imGAB', 'imIRS', 'aSrc', 'Ri', 'IRi', 'iPX', 'aPX', 'aPX_GS', 'IRSp_PI3K', 'IRSp_GS', 'IRSp_SHP2', 'GABp', 'GABp_PI3K', 'GABp_GS', 'GABp_RasGAP', 'GABp_SHP2', 'GABp_pSHP2', 'GABp_pSHP2_GS', 'imGABp', 'bRasGAP', 'phosphorylated_Akt'])\n"
          ],
          "name": "stdout"
        }
      ]
    },
    {
      "cell_type": "code",
      "metadata": {
        "id": "Qju3h_G8XbLM",
        "colab_type": "code",
        "outputId": "56da294e-e8c5-48a6-8410-417a081fc6ff",
        "colab": {
          "base_uri": "https://localhost:8080/",
          "height": 34
        }
      },
      "source": [
        "# get the dictionary keys for the IDs of the compartments in the model\n",
        "print(modelInstance.c.keys())"
      ],
      "execution_count": 0,
      "outputs": [
        {
          "output_type": "stream",
          "text": [
            "dict_keys(['cell', 'extra'])\n"
          ],
          "name": "stdout"
        }
      ]
    },
    {
      "cell_type": "code",
      "metadata": {
        "id": "KBGHZZOGXcyc",
        "colab_type": "code",
        "outputId": "960a725a-7612-467b-d6de-33fc69022e69",
        "colab": {
          "base_uri": "https://localhost:8080/",
          "height": 54
        }
      },
      "source": [
        "# get the dictionary keys for the IDs of the parameters in the model\n",
        "print(modelInstance.p.keys())"
      ],
      "execution_count": 0,
      "outputs": [
        {
          "output_type": "stream",
          "text": [
            "dict_keys(['EGF_tot', 'k1', 'Kd1', 'k2', 'Kd2', 'k3', 'k4', 'Kd4', 'Kd5', 'k5', 'k6', 'k7', 'Kd7', 'V8', 'Km8', 'Kd9', 'k9', 'Kd10', 'k10', 'k11', 'k12', 'Kd12', 'k13', 'Kd13', 'k17', 'k24', 'Kd24', 'k25', 'k26', 'Kd26', 'k27', 'Kd27', 'k28', 'Kd28', 'k29', 'k30', 'Kd30', 'V31', 'Km31', 'kcat40', 'Km40', 'alpha40', 'V41', 'Km41', 'k42', 'Kd42', 'kcat43', 'Km43', 'alpha43', 'Kd45', 'k45', 'k46', 'Kd46', 'k47', 'Kd47', 'k48', 'k49', 'Kd49', 'kcat50', 'alpha50', 'Km50', 'V51', 'Km51', 'k52', 'Kd52', 'k53', 'Kd53', 'k54', 'Kd54', 'k55', 'Kd55', 'k56', 'kcat57', 'Km57', 'V58', 'Km58', 'k59', 'Kd59', 'k60', 'k61', 'kcat62', 'Km62', 'kcat63', 'Km63', 'k64', 'k_64', 'kcat65', 'Km65', 'kcat66', 'Km66', 'kcat67', 'Km67', 'alpha67', 'beta67', 'kcat68', 'Km68', 'V69', 'Km69', 'kcat70', 'Km70', 'kcat71', 'Km71', 'V72', 'Km72', 'V73', 'Km73', 'k74', 'Kd74', 'kcat75', 'Km75', 'V76', 'Km76', 'kcat77', 'alpha77', 'Km77', 'k_77', 'kcat78', 'Km78', 'k_78', 'kcat79', 'Km79', 'k_79', 'kcat80', 'Km80', 'k_80', 'kcat81', 'Km81', 'k_81', 'V_82', 'Km82', 'k83', 'V_84', 'Km84', 'k85', 'k111', 'k118', 'k_1', 'k_2', 'k_4', 'k_5', 'k_7', 'k_9', 'k_10', 'k_11', 'k_12', 'k_13', 'k_24', 'k_26', 'k_27', 'k_28', 'k_30', 'k_42', 'k_45', 'k_46', 'k_47', 'k_49', 'k_52', 'k_53', 'k_54', 'k_55', 'k_59', 'k_74'])\n"
          ],
          "name": "stdout"
        }
      ]
    },
    {
      "cell_type": "code",
      "metadata": {
        "id": "HW8yQ0XTYFpD",
        "colab_type": "code",
        "outputId": "45220a8a-4aee-4f89-b7c6-6591ac305c30",
        "colab": {
          "base_uri": "https://localhost:8080/",
          "height": 85
        }
      },
      "source": [
        "# replace compartmentId with one of the dictionary keys returned from print(modelInstance.c.keys())\n",
        "print(modelInstance.c['cell'].size) \n",
        "# replace parameterId with one of the dictionary keys returned from print(modelInstance.p.keys())\n",
        "print(modelInstance.p['k1'].value)\n",
        "# replace speciesId with one of the dictionary keys returned from print(modelInstance.s.keys())\n",
        "print(modelInstance.s['EGF'].concentration)\n",
        "print(modelInstance.s['EGF'].amount)"
      ],
      "execution_count": 0,
      "outputs": [
        {
          "output_type": "stream",
          "text": [
            "1.0\n",
            "0.068\n",
            "1.0\n",
            "34.0\n"
          ],
          "name": "stdout"
        }
      ]
    },
    {
      "cell_type": "code",
      "metadata": {
        "id": "nwb-DX9OYQ5z",
        "colab_type": "code",
        "outputId": "534a1583-9144-465f-8bd6-381458ee6942",
        "colab": {
          "base_uri": "https://localhost:8080/",
          "height": 34
        }
      },
      "source": [
        "print(modelInstance.time)"
      ],
      "execution_count": 0,
      "outputs": [
        {
          "output_type": "stream",
          "text": [
            "0\n"
          ],
          "name": "stdout"
        }
      ]
    },
    {
      "cell_type": "code",
      "metadata": {
        "id": "R4fz6BZjYTjy",
        "colab_type": "code",
        "colab": {}
      },
      "source": [
        "timeinterval = 1\n",
        "modelInstance.RunSimulation(timeinterval)"
      ],
      "execution_count": 0,
      "outputs": []
    },
    {
      "cell_type": "code",
      "metadata": {
        "id": "O-t9r7o6YXUC",
        "colab_type": "code",
        "outputId": "32a03f63-c80a-4080-fb98-81e6e18119a1",
        "colab": {
          "base_uri": "https://localhost:8080/",
          "height": 34
        }
      },
      "source": [
        "print(modelInstance.time)"
      ],
      "execution_count": 0,
      "outputs": [
        {
          "output_type": "stream",
          "text": [
            "1\n"
          ],
          "name": "stdout"
        }
      ]
    },
    {
      "cell_type": "code",
      "metadata": {
        "id": "gkDbBJEJYaSC",
        "colab_type": "code",
        "colab": {}
      },
      "source": [
        "import numpy as np\n",
        "times = np.zeros(101)\n",
        "times[0] = modelInstance.time\n",
        "concentrations = np.zeros(101)\n",
        "concentrations[0] = modelInstance.s['EGF'].concentration\n",
        "timeinterval = 1\n",
        "for i in range(100):\n",
        "\tmodelInstance.RunSimulation(timeinterval)\n",
        "\ttimes[i+1] = modelInstance.time\n",
        "\tconcentrations[i+1] = modelInstance.s['EGF'].concentration"
      ],
      "execution_count": 0,
      "outputs": []
    },
    {
      "cell_type": "code",
      "metadata": {
        "id": "SZf3L6A2YkoK",
        "colab_type": "code",
        "outputId": "b44dc904-d1f1-44c3-f2f8-a283ae45974a",
        "colab": {
          "base_uri": "https://localhost:8080/",
          "height": 286
        }
      },
      "source": [
        "import matplotlib.pyplot as plt\n",
        "plt.plot(times,concentrations)"
      ],
      "execution_count": 0,
      "outputs": [
        {
          "output_type": "execute_result",
          "data": {
            "text/plain": [
              "[<matplotlib.lines.Line2D at 0x7fac3f237f60>]"
            ]
          },
          "metadata": {
            "tags": []
          },
          "execution_count": 48
        },
        {
          "output_type": "display_data",
          "data": {
            "image/png": "[encoded data removed]",
            "text/plain": [
              "<Figure size 432x288 with 1 Axes>"
            ]
          },
          "metadata": {
            "tags": []
          }
        }
      ]
    },
    {
      "cell_type": "markdown",
      "metadata": {
        "id": "v1rNNx--ZEq4",
        "colab_type": "text"
      },
      "source": [
        "## Example 2: Guyton1972"
      ]
    },
    {
      "cell_type": "code",
      "metadata": {
        "id": "nVkqawcOZOna",
        "colab_type": "code",
        "colab": {}
      },
      "source": [
        "sbmltoodepy.ParseAndCreateModel(\"Guyton1972_Angiotensin.xml\",outputFilePath = \"GuytonFile.py\", className = \"GuytonModel\")\n",
        "from GuytonFile import GuytonModel\n",
        "model = GuytonModel()"
      ],
      "execution_count": 0,
      "outputs": []
    },
    {
      "cell_type": "code",
      "metadata": {
        "id": "_lOx_agVZgLh",
        "colab_type": "code",
        "outputId": "afc1795a-d41d-4ee6-896f-830b4f92f877",
        "colab": {
          "base_uri": "https://localhost:8080/",
          "height": 54
        }
      },
      "source": [
        "# get the dictionary keys for the IDs of the parameters in the model\n",
        "print(model.p.keys())\n",
        "model.RunSimulation(1)"
      ],
      "execution_count": 0,
      "outputs": [
        {
          "output_type": "stream",
          "text": [
            "dict_keys(['MDFLW', 'ANGSCR', 'MDFLW3', 'ANX1', 'ANX', 'ANPR', 'ANPRT', 'ANPR1', 'ANC', 'ANM', 'ANU', 'ANU1', 'ANUVN', 'ANXM', 'ANV', 'REK', 'ANGINF', 'ANGKNS', 'ANT', 'Z12', 'ANMUL', 'ANMLL', 'ANCSNS', 'ANULL', 'ANUM', 'ANUVM', 'tu'])\n"
          ],
          "name": "stdout"
        }
      ]
    },
    {
      "cell_type": "code",
      "metadata": {
        "id": "t_PbnUlsaCi5",
        "colab_type": "code",
        "outputId": "93ed2b1d-f9d1-4a52-b347-6d265c9c5306",
        "colab": {
          "base_uri": "https://localhost:8080/",
          "height": 34
        }
      },
      "source": [
        "guytonParameterValues = [model.p['ANX1'].value, model.p['ANC'].value, model.p['ANGSCR'].value, model.p['MDFLW3'].value, model.p['ANX'].value, model.p['ANPR'].value, model.p['ANPRT'].value, model.p['ANPR1'].value, model.p['ANM'].value, model.p['ANU'].value, model.p['ANU1'].value, model.p['ANUVN'].value]\n",
        "print(guytonParameterValues)"
      ],
      "execution_count": 0,
      "outputs": [
        {
          "output_type": "stream",
          "text": [
            "[0.0, 0.8678803647729155, 0.964580600354965, 1.00051, -0.0, 0.964580600354965, 0.964580600354965, 0.964580600354965, 0.98830093995705, 0.9298056397423002, 0.9298056397423002, 1.0]\n"
          ],
          "name": "stdout"
        }
      ]
    }
  ]
}